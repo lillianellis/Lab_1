{
 "cells": [
  {
   "cell_type": "markdown",
   "metadata": {},
   "source": [
    "# Lab #1: City of Seattle Wage Analysis: Who Makes the Most and Least and Why?\n"
   ]
  },
  {
   "cell_type": "markdown",
   "metadata": {},
   "source": [
    "Lillian Ellis  \n",
    "Created August 27, 2018"
   ]
  },
  {
   "cell_type": "markdown",
   "metadata": {},
   "source": [
    "**Abstract:**\n",
    "    In this lab, I worked to uncover and analyze data from the City of Seattle surrounding wages by hour for those who work for the city. While sorting this data, I looked for a few specific details and formed a few questions. Which city employee has the largest income? Who has the smallest? What is the average hourly wage for a Seattle city employee? Through sorting and analyzing this data, I found figures for the maxiumum, minimum, and average data as well as who makes the most and least in our city."
   ]
  },
  {
   "cell_type": "markdown",
   "metadata": {},
   "source": [
    "**Dataset Preparation:** Our set of data, updated July 30th of 2018, is pulled directly from the City of Seattle's database. The data we pulled surrounds the hourly wages of every Seattle city employee. To prepare this dataset for modeling and analysis, we first found and deleted all of the commas in the excel data table. "
   ]
  },
  {
   "cell_type": "markdown",
   "metadata": {},
   "source": [
    "Link to Data Set:  https://data.seattle.gov/City-Business/City-of-Seattle-Wage-Data/2khk-5ukd"
   ]
  },
  {
   "cell_type": "code",
   "execution_count": 64,
   "metadata": {
    "collapsed": true
   },
   "outputs": [],
   "source": [
    "#opening file\n",
    "data_file = open(\"City_of_Seattle_Wage_Data_Clean.csv\", \"r\")\n",
    "\n",
    "#creating list to store the data\n",
    "wage_data = [];\n",
    "\n",
    "#appending data from file into the list\n",
    "\n",
    "for ii in data_file:\n",
    "    wage_data.append(ii);\n",
    "    \n",
    "#closing file\n",
    "data_file.close();\n"
   ]
  },
  {
   "cell_type": "markdown",
   "metadata": {},
   "source": [
    "We then called the data, removed the first element, as it is a title, and created 5 lists for the 5 columns: department, last name, first name, job title, and hourly rate. Then we appended all the data to these sorted lists, splitting each by the comma. \n"
   ]
  },
  {
   "cell_type": "code",
   "execution_count": 65,
   "metadata": {
    "collapsed": true
   },
   "outputs": [],
   "source": [
    "#remove the first element (column header)\n",
    "del wage_data[0];\n",
    "\n",
    "#create empty lists for all 5 columns: department, last and first name, job, and hourly rate\n",
    "department = [];\n",
    "last_name = [];\n",
    "first_name = [];\n",
    "job_title = [];\n",
    "hourly_rate = [];\n",
    "\n",
    "for jj in range(len(wage_data)):\n",
    "    #make into a list of lists of just numbers\n",
    "    wage_data[jj] = wage_data[jj].split(\",\")\n",
    "    \n",
    "    #add data to specific lists for all columns\n",
    "    department.append(str(wage_data[jj][0]))\n",
    "    last_name.append(str(wage_data[jj][1]))\n",
    "    first_name.append(str(wage_data[jj][2]))\n",
    "    job_title.append(str(wage_data[jj][3]))\n",
    "    hourly_rate.append(float(wage_data[jj][4]))\n",
    "    "
   ]
  },
  {
   "cell_type": "markdown",
   "metadata": {},
   "source": [
    "**Data Modeling:**"
   ]
  },
  {
   "cell_type": "markdown",
   "metadata": {},
   "source": [
    "To find the minimum and maximum hourly wage, I used the min and max function to find those figures from the hourly rate list we created above. I then used the .index method to find the place in the index of those figures to find who made the most and least amount. I then printed their names and descriptions in a print statement\n"
   ]
  },
  {
   "cell_type": "code",
   "execution_count": 66,
   "metadata": {},
   "outputs": [
    {
     "name": "stdout",
     "output_type": "stream",
     "text": [
      "Min rate is 5.53\n",
      "Max rate is 137.788\n",
      "The person that earns the maximum rate is Mami Hara\n",
      "The person(s) that earns the minimum rate is Amy Bonfrisco\n"
     ]
    }
   ],
   "source": [
    "min_rate = min(hourly_rate)\n",
    "max_rate = max(hourly_rate)\n",
    "\n",
    "print(\"Min rate is\", min_rate)\n",
    "print(\"Max rate is\", max_rate)\n",
    "index_max = hourly_rate.index(max_rate)\n",
    "index_min = hourly_rate.index(min_rate)\n",
    "\n",
    "print(\"The person that earns the maximum rate is\", first_name[index_max], last_name[index_max])\n",
    "print(\"The person(s) that earns the minimum rate is\", first_name[index_min], last_name[index_min])"
   ]
  },
  {
   "cell_type": "markdown",
   "metadata": {},
   "source": [
    "To find the mean, I first sorted the data in order of smallest to greatest using the .sort method. Then, I found the number of elements in the rate list (by using the len function), found the sum of it all and defined that in another variable, and then divided the total by the length to calculate the mean.\n"
   ]
  },
  {
   "cell_type": "code",
   "execution_count": 62,
   "metadata": {},
   "outputs": [
    {
     "name": "stdout",
     "output_type": "stream",
     "text": [
      "Mean rate is 39.585019730942065\n"
     ]
    }
   ],
   "source": [
    "hourly_rate.sort();\n",
    "#print(hourly_rate)\n",
    "\n",
    "#print average\n",
    "count_hourly_rate = len(hourly_rate)\n",
    "total = sum(hourly_rate)\n",
    "mean = total/count_hourly_rate\n",
    "\n",
    "print(\"Mean rate is\", mean);"
   ]
  },
  {
   "cell_type": "code",
   "execution_count": 63,
   "metadata": {},
   "outputs": [
    {
     "name": "stdout",
     "output_type": "stream",
     "text": [
      "There are 12934 employees working for the City of Seattle\n"
     ]
    }
   ],
   "source": [
    "print(\"There are\", len(first_name), \"employees working for the City of Seattle\")"
   ]
  },
  {
   "cell_type": "markdown",
   "metadata": {},
   "source": [
    "**Data Analysis and Conclusion:**"
   ]
  },
  {
   "cell_type": "markdown",
   "metadata": {},
   "source": [
    "Overall, we found that there is a huge range of salary of the 12934 employees that work for the City of Seattle. The maximum figure or 137.788 an hour is much bigger than the mean at 39.59 an hour. Even under that is the minimum rate, a salary that cuts below minimum wage, at 5.53 an hour. For me, this raises the question of why this salary is below minimum wage? How is this legal? Could the data not account for something here? Additionally, why is the maximum salary so significantly above the mean income? Why is this figure an outlier? While sorting through this data, a lot of these questions were left unanswered. Do all of these employees work full time? When do they recieve raises? Overall, I learned alot through sorting these figures about the wages in our City, and was amazed by how many people work for our city under different occupations."
   ]
  },
  {
   "cell_type": "markdown",
   "metadata": {},
   "source": [
    "**Acknowledgements**"
   ]
  },
  {
   "cell_type": "markdown",
   "metadata": {
    "collapsed": true
   },
   "source": [
    "For this project, I worked closley with Julia as we figured out how to clean, organize, and sort our data. I also referred to the More Python Practice file that Ms. Sconyers shared with us to recall certain functions for calling, reading, and organizing data. Additionally, I used John Gruber's Canonical Markdown Cheatsheet. All data was pulled from the City of Seattle. "
   ]
  },
  {
   "cell_type": "code",
   "execution_count": null,
   "metadata": {
    "collapsed": true
   },
   "outputs": [],
   "source": []
  }
 ],
 "metadata": {
  "kernelspec": {
   "display_name": "Python 3",
   "language": "python",
   "name": "python3"
  },
  "language_info": {
   "codemirror_mode": {
    "name": "ipython",
    "version": 3
   },
   "file_extension": ".py",
   "mimetype": "text/x-python",
   "name": "python",
   "nbconvert_exporter": "python",
   "pygments_lexer": "ipython3",
   "version": "3.6.3"
  }
 },
 "nbformat": 4,
 "nbformat_minor": 2
}
